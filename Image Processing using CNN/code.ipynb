{
  "nbformat": 4,
  "nbformat_minor": 0,
  "metadata": {
    "kernelspec": {
      "display_name": "Python 3",
      "language": "python",
      "name": "python3"
    },
    "language_info": {
      "codemirror_mode": {
        "name": "ipython",
        "version": 3
      },
      "file_extension": ".py",
      "mimetype": "text/x-python",
      "name": "python",
      "nbconvert_exporter": "python",
      "pygments_lexer": "ipython3",
      "version": "3.7.6"
    },
    "colab": {
      "name": "code.ipynb",
      "provenance": []
    }
  },
  "cells": [
    {
      "cell_type": "markdown",
      "metadata": {
        "id": "6h1UocvnRWrH",
        "colab_type": "text"
      },
      "source": [
        "#Import Libraries an Load Dataset"
      ]
    },
    {
      "cell_type": "code",
      "metadata": {
        "id": "8D21hC29RScA",
        "colab_type": "code",
        "colab": {},
        "outputId": "feeb0210-f608-4933-861d-49c4db2ab499"
      },
      "source": [
        "import keras\n",
        "keras.__version__\n",
        "\n"
      ],
      "execution_count": null,
      "outputs": [
        {
          "output_type": "stream",
          "text": [
            "Using TensorFlow backend.\n"
          ],
          "name": "stderr"
        },
        {
          "output_type": "execute_result",
          "data": {
            "text/plain": [
              "'2.2.4'"
            ]
          },
          "metadata": {
            "tags": []
          },
          "execution_count": 1
        }
      ]
    },
    {
      "cell_type": "markdown",
      "metadata": {
        "id": "2SPAYbOCSKbW",
        "colab_type": "text"
      },
      "source": [
        "#Making directories"
      ]
    },
    {
      "cell_type": "code",
      "metadata": {
        "id": "yx5Jk0SeRSch",
        "colab_type": "code",
        "colab": {}
      },
      "source": [
        "base_dir='C:\\\\Users\\\\NGC\\\\Datasets\\\\prepared'\n",
        "\n",
        "if (not(os.path.exists(base_dir))):\n",
        "    os.mkdir(base_dir)\n",
        "    \n",
        "train_dir=os.path.join(base_dir,'train')\n",
        "os.mkdir(train_dir)\n",
        "validation_dir=os.path.join(base_dir,'validation')\n",
        "os.mkdir(validation_dir)\n",
        "test_dir=os.path.join(base_dir,'test')\n",
        "os.mkdir(test_dir)\n",
        "\n",
        "train_obj1_dir=os.path.join(train_dir,'obj1')\n",
        "os.mkdir(train_obj1_dir)\n",
        "\n",
        "train_obj2_dir=os.path.join(train_dir,'obj2')\n",
        "os.mkdir(train_obj2_dir)\n",
        "\n",
        "train_obj3_dir=os.path.join(train_dir,'obj3')\n",
        "os.mkdir(train_obj3_dir)\n",
        "\n",
        "train_obj4_dir=os.path.join(train_dir,'obj4')\n",
        "os.mkdir(train_obj4_dir)\n",
        "\n",
        "train_obj5_dir=os.path.join(train_dir,'obj5')\n",
        "os.mkdir(train_obj5_dir)\n",
        "\n",
        "\n",
        "validatoin_obj1_dir=os.path.join(validation_dir,'obj1')\n",
        "os.mkdir(validatoin_obj1_dir)\n",
        "\n",
        "validation_obj2_dir=os.path.join(validation_dir,'obj2')\n",
        "os.mkdir(validation_obj2_dir)\n",
        "\n",
        "validation_obj3_dir=os.path.join(validation_dir,'obj3')\n",
        "os.mkdir(validation_obj3_dir)\n",
        "\n",
        "validation_obj4_dir=os.path.join(validation_dir,'obj4')\n",
        "os.mkdir(validation_obj4_dir)\n",
        "\n",
        "validation_obj5_dir=os.path.join(validation_dir,'obj5')\n",
        "os.mkdir(validation_obj5_dir)\n",
        "\n",
        "\n",
        "test_obj1_dir=os.path.join(test_dir,'obj1')\n",
        "os.mkdir(test_obj1_dir)\n",
        "\n",
        "test_obj2_dir=os.path.join(test_dir,'obj2')\n",
        "os.mkdir(test_obj2_dir)\n",
        "test_obj3_dir=os.path.join(test_dir,'obj3')\n",
        "os.mkdir(test_obj3_dir)\n",
        "test_obj4_dir=os.path.join(test_dir,'obj4')\n",
        "os.mkdir(test_obj4_dir)\n",
        "test_obj5_dir=os.path.join(test_dir,'obj5')\n",
        "os.mkdir(test_obj5_dir)\n",
        "\n",
        "\n"
      ],
      "execution_count": null,
      "outputs": []
    },
    {
      "cell_type": "markdown",
      "metadata": {
        "id": "7QBUgmndSUbL",
        "colab_type": "text"
      },
      "source": [
        "#Copying Images"
      ]
    },
    {
      "cell_type": "code",
      "metadata": {
        "id": "pKBhAjoSRScr",
        "colab_type": "code",
        "colab": {},
        "outputId": "fd38b2b1-76c8-4b8b-dca9-3266bcdf18c1"
      },
      "source": [
        "fnames=['obj1__{}.PNG'.format(i) for i in range(50)]\n",
        "train_obj1_dir\n",
        "\n",
        "fnames_2=['obj2__{}.PNG'.format(i) for i in range(72,122)]\n",
        "train_obj2_dir\n",
        "\n",
        "fnames_3=['obj3__{}.PNG'.format(i) for i in range(144,194)]\n",
        "train_obj3_dir\n",
        "\n",
        "fnames_4=['obj4__{}.PNG'.format(i) for i in range(216,266)]\n",
        "train_obj4_dir\n",
        "\n",
        "fnames_5=['obj5__{}.PNG'.format(i) for i in range(288,338)]\n",
        "train_obj5_dir\n"
      ],
      "execution_count": null,
      "outputs": [
        {
          "output_type": "execute_result",
          "data": {
            "text/plain": [
              "'C:\\\\Users\\\\NGC\\\\Datasets\\\\prepared\\\\train\\\\obj5'"
            ]
          },
          "metadata": {
            "tags": []
          },
          "execution_count": 6
        }
      ]
    },
    {
      "cell_type": "code",
      "metadata": {
        "id": "nvgpuVlzRScw",
        "colab_type": "code",
        "colab": {}
      },
      "source": [
        "import shutil\n",
        "fnames=['obj1__{}.PNG'.format(i) for i in range(50)]\n",
        "for fname in fnames:\n",
        "    src=os.path.join(orginal_dataset_dir,fname)\n",
        "    dst=os.path.join(train_obj1_dir,fname)\n",
        "    shutil.copyfile(src,dst)\n",
        "    \n",
        "fnames_2=['obj2__{}.PNG'.format(i)for i in range(50)]\n",
        "for fname in fnames_2:\n",
        "    src=os.path.join(orginal_dataset_dir,fname)\n",
        "    dst=os.path.join(train_obj2_dir,fname)\n",
        "    shutil.copyfile(src,dst)\n",
        "\n",
        "fnames_3=['obj3__{}.PNG'.format(i)for i in range(50)]\n",
        "for fname in fnames_3:\n",
        "    src=os.path.join(orginal_dataset_dir,fname)\n",
        "    dst=os.path.join(train_obj3_dir,fname)\n",
        "    shutil.copyfile(src,dst)\n",
        "\n",
        "fnames_4=['obj4__{}.PNG'.format(i)for i in range(50)]\n",
        "for fname in fnames_4:\n",
        "    src=os.path.join(orginal_dataset_dir,fname)\n",
        "    dst=os.path.join(train_obj4_dir,fname)\n",
        "    shutil.copyfile(src,dst)\n",
        "    \n",
        "fnames_5=['obj5__{}.PNG'.format(i)for i in range(50)]\n",
        "for fname in fnames_5:\n",
        "    src=os.path.join(orginal_dataset_dir,fname)\n",
        "    dst=os.path.join(train_obj5_dir,fname)\n",
        "    shutil.copyfile(src,dst)\n",
        "\n",
        "\n",
        "\n"
      ],
      "execution_count": null,
      "outputs": []
    },
    {
      "cell_type": "code",
      "metadata": {
        "id": "hVpLlkEeRSc0",
        "colab_type": "code",
        "colab": {}
      },
      "source": [
        "fnames_test_1=['obj1__{}.PNG'.format(i)for i in range(50,61)]\n",
        "for fname in fnames_test_1:\n",
        "    src=os.path.join(orginal_dataset_dir,fname)\n",
        "    dst=os.path.join(test_obj1_dir,fname)\n",
        "    shutil.copyfile(src,dst)\n",
        "    \n",
        "fnames_test_2=['obj2__{}.PNG'.format(i)for i in range(50,61)]\n",
        "for fname in fnames_test_2:\n",
        "    src=os.path.join(orginal_dataset_dir,fname)\n",
        "    dst=os.path.join(test_obj2_dir,fname)\n",
        "    shutil.copyfile(src,dst)\n",
        "    \n",
        "fnames_test_3=['obj3__{}.PNG'.format(i)for i in range(50,61)]\n",
        "for fname in fnames_test_3:\n",
        "    src=os.path.join(orginal_dataset_dir,fname)\n",
        "    dst=os.path.join(test_obj3_dir,fname)\n",
        "    shutil.copyfile(src,dst)\n",
        "    \n",
        "fnames_test_4=['obj4__{}.PNG'.format(i)for i in range(50,61)]\n",
        "for fname in fnames_test_4:\n",
        "    src=os.path.join(orginal_dataset_dir,fname)\n",
        "    dst=os.path.join(test_obj4_dir,fname)\n",
        "    shutil.copyfile(src,dst)\n",
        "    \n",
        "fnames_test_5=['obj5__{}.PNG'.format(i)for i in range(50,61)]\n",
        "for fname in fnames_test_5:\n",
        "    src=os.path.join(orginal_dataset_dir,fname)\n",
        "    dst=os.path.join(test_obj5_dir,fname)\n",
        "    shutil.copyfile(src,dst)\n",
        "    "
      ],
      "execution_count": null,
      "outputs": []
    },
    {
      "cell_type": "code",
      "metadata": {
        "id": "wtYRUgv1RSc5",
        "colab_type": "code",
        "colab": {}
      },
      "source": [
        "fname_validatoin_obj1=['obj1__{}.PNG'.format(i)for i in range(61,72)]\n",
        "for fname in fname_validatoin_obj1:\n",
        "    src=os.path.join(orginal_dataset_dir,fname)\n",
        "    dst=os.path.join(validatoin_obj1_dir,fname)\n",
        "    shutil.copyfile(src,dst)\n",
        "    \n",
        "fname_validatoin_obj2=['obj2__{}.PNG'.format(i)for i in range(61,72)]\n",
        "for fname in fname_validatoin_obj2:\n",
        "    src=os.path.join(orginal_dataset_dir,fname)\n",
        "    dst=os.path.join(validatoin_obj2_dir,fname)\n",
        "    shutil.copyfile(src,dst)\n",
        "\n",
        "fname_validatoin_obj3=['obj3__{}.PNG'.format(i)for i in range(61,72)]\n",
        "for fname in fname_validatoin_obj3:\n",
        "    src=os.path.join(orginal_dataset_dir,fname)\n",
        "    dst=os.path.join(validatoin_obj3_dir,fname)\n",
        "    shutil.copyfile(src,dst)\n",
        "    \n",
        "    \n",
        "fname_validatoin_obj4=['obj4__{}.PNG'.format(i)for i in range(61,72)]\n",
        "for fname in fname_validatoin_obj4:\n",
        "    src=os.path.join(orginal_dataset_dir,fname)\n",
        "    dst=os.path.join(validatoin_obj4_dir,fname)\n",
        "    shutil.copyfile(src,dst)\n",
        "    \n",
        "    \n",
        "fname_validatoin_obj5=['obj5__{}.PNG'.format(i)for i in range(61,72)]\n",
        "for fname in fname_validatoin_obj5:\n",
        "    src=os.path.join(orginal_dataset_dir,fname)\n",
        "    dst=os.path.join(validatoin_obj5_dir,fname)\n",
        "    shutil.copyfile(src,dst)"
      ],
      "execution_count": null,
      "outputs": []
    },
    {
      "cell_type": "code",
      "metadata": {
        "id": "cUtc7rMcRSc-",
        "colab_type": "code",
        "colab": {},
        "outputId": "4e967090-24e3-4227-d225-d154b310de49"
      },
      "source": [
        "print(\"print total training obj1 image\",len(os.listdir(train_obj1_dir)))\n",
        "print(\"print total training obj2 image\",len(os.listdir(train_obj2_dir)))\n",
        "print(\"print total training obj3 image\",len(os.listdir(train_obj3_dir)))\n",
        "print(\"print total training obj4 image\",len(os.listdir(train_obj4_dir)))\n",
        "print(\"print total training obj5 image\",len(os.listdir(train_obj5_dir)))"
      ],
      "execution_count": null,
      "outputs": [
        {
          "output_type": "stream",
          "text": [
            "print total training obj1 image 50\n",
            "print total training obj2 image 50\n",
            "print total training obj3 image 50\n",
            "print total training obj4 image 50\n",
            "print total training obj5 image 50\n"
          ],
          "name": "stdout"
        }
      ]
    },
    {
      "cell_type": "markdown",
      "metadata": {
        "id": "Vg0yLjpcS0qU",
        "colab_type": "text"
      },
      "source": [
        "#CNN Model"
      ]
    },
    {
      "cell_type": "code",
      "metadata": {
        "id": "hRnc8xkARSdD",
        "colab_type": "code",
        "colab": {}
      },
      "source": [
        "from keras import layers\n",
        "from keras import models \n",
        "\n",
        "model=models.Sequential()\n",
        "model.add(layers.Conv2D(32, (3, 3), activation='relu', input_shape=(150, 150, 3)))\n",
        "model.add(layers.MaxPooling2D(2,2))\n",
        "\n",
        "model.add(layers.Conv2D(64,(3,3),activation='relu'))\n",
        "model.add(layers.MaxPooling2D(2,2))\n",
        "\n",
        "model.add(layers.Conv2D(128,(3,3),activation='relu'))\n",
        "model.add(layers.MaxPooling2D(2,2))\n",
        "\n",
        "\n",
        "model.add(layers.Flatten())\n",
        "model.add(layers.Dense(512,activation='relu'))\n",
        "model.add(layers.Dense(5,activation='softmax'))\n",
        "\n",
        "\n",
        "\n"
      ],
      "execution_count": null,
      "outputs": []
    },
    {
      "cell_type": "code",
      "metadata": {
        "id": "vYGpJ0WwRSdH",
        "colab_type": "code",
        "colab": {},
        "outputId": "71445682-8d63-4988-dc57-bfd45579efb1"
      },
      "source": [
        "model.summary()"
      ],
      "execution_count": null,
      "outputs": [
        {
          "output_type": "stream",
          "text": [
            "_________________________________________________________________\n",
            "Layer (type)                 Output Shape              Param #   \n",
            "=================================================================\n",
            "conv2d_7 (Conv2D)            (None, 148, 148, 32)      896       \n",
            "_________________________________________________________________\n",
            "max_pooling2d_7 (MaxPooling2 (None, 74, 74, 32)        0         \n",
            "_________________________________________________________________\n",
            "conv2d_8 (Conv2D)            (None, 72, 72, 64)        18496     \n",
            "_________________________________________________________________\n",
            "max_pooling2d_8 (MaxPooling2 (None, 36, 36, 64)        0         \n",
            "_________________________________________________________________\n",
            "conv2d_9 (Conv2D)            (None, 34, 34, 128)       73856     \n",
            "_________________________________________________________________\n",
            "max_pooling2d_9 (MaxPooling2 (None, 17, 17, 128)       0         \n",
            "_________________________________________________________________\n",
            "flatten_3 (Flatten)          (None, 36992)             0         \n",
            "_________________________________________________________________\n",
            "dense_5 (Dense)              (None, 512)               18940416  \n",
            "_________________________________________________________________\n",
            "dense_6 (Dense)              (None, 5)                 2565      \n",
            "=================================================================\n",
            "Total params: 19,036,229\n",
            "Trainable params: 19,036,229\n",
            "Non-trainable params: 0\n",
            "_________________________________________________________________\n"
          ],
          "name": "stdout"
        }
      ]
    },
    {
      "cell_type": "code",
      "metadata": {
        "id": "CFPRaIrnRSdL",
        "colab_type": "code",
        "colab": {}
      },
      "source": [
        "from keras import optimizers\n",
        "\n",
        "model.compile(loss='categorical_crossentropy',\n",
        "             optimizer=optimizers.RMSprop(lr=1e-4),\n",
        "              metrics=['acc'])"
      ],
      "execution_count": null,
      "outputs": []
    },
    {
      "cell_type": "markdown",
      "metadata": {
        "id": "tLRXB0l5S-EH",
        "colab_type": "text"
      },
      "source": [
        "#Training and Testing"
      ]
    },
    {
      "cell_type": "code",
      "metadata": {
        "id": "iZDPSsPIRSdQ",
        "colab_type": "code",
        "colab": {},
        "outputId": "d5d51ffe-2253-4f1e-a894-03fd2ad92c5d"
      },
      "source": [
        "from keras.preprocessing.image import ImageDataGenerator\n",
        "\n",
        "train_datagen=ImageDataGenerator(rescale=1./255)\n",
        "test_datagen = ImageDataGenerator(rescale=1./255)\n",
        "\n",
        "train_generator=train_datagen.flow_from_directory(\n",
        "        train_dir,\n",
        "            target_size=(150,150),\n",
        "            batch_size=20,\n",
        "        class_mode='categorical')\n",
        "\n",
        "validation_generator = test_datagen.flow_from_directory(\n",
        "        validation_dir,\n",
        "        target_size=(150, 150),\n",
        "        batch_size=20,\n",
        "        class_mode='categorical')"
      ],
      "execution_count": null,
      "outputs": [
        {
          "output_type": "stream",
          "text": [
            "Found 250 images belonging to 5 classes.\n",
            "Found 56 images belonging to 5 classes.\n"
          ],
          "name": "stdout"
        }
      ]
    },
    {
      "cell_type": "code",
      "metadata": {
        "id": "QhfE86zeRSdU",
        "colab_type": "code",
        "colab": {},
        "outputId": "f457ce16-169d-44a0-c17b-6f38c9e99460"
      },
      "source": [
        "history=model.fit_generator(\n",
        "        train_generator,\n",
        "        steps_per_epoch=20,\n",
        "        epochs=15,\n",
        "        validation_data=validation_generator,\n",
        "         validation_steps=10)"
      ],
      "execution_count": null,
      "outputs": [
        {
          "output_type": "stream",
          "text": [
            "Epoch 1/15\n",
            "20/20 [==============================] - 13s 674ms/step - loss: 0.4769 - acc: 0.8748 - val_loss: 0.0760 - val_acc: 1.0000\n",
            "Epoch 2/15\n",
            "20/20 [==============================] - 14s 679ms/step - loss: 0.0226 - acc: 1.0000 - val_loss: 0.0108 - val_acc: 1.0000\n",
            "Epoch 3/15\n",
            "20/20 [==============================] - 12s 624ms/step - loss: 0.0038 - acc: 1.0000 - val_loss: 0.0044 - val_acc: 1.0000\n",
            "Epoch 4/15\n",
            "20/20 [==============================] - 12s 624ms/step - loss: 0.0014 - acc: 1.0000 - val_loss: 0.0035 - val_acc: 1.0000\n",
            "Epoch 5/15\n",
            "20/20 [==============================] - 13s 633ms/step - loss: 0.0127 - acc: 0.9950 - val_loss: 8.0948e-04 - val_acc: 1.0000\n",
            "Epoch 6/15\n",
            "20/20 [==============================] - 12s 621ms/step - loss: 1.9703e-04 - acc: 1.0000 - val_loss: 7.2098e-04 - val_acc: 1.0000\n",
            "Epoch 7/15\n",
            "20/20 [==============================] - 13s 632ms/step - loss: 1.0232e-04 - acc: 1.0000 - val_loss: 5.4760e-04 - val_acc: 1.0000\n",
            "Epoch 8/15\n",
            "20/20 [==============================] - 13s 626ms/step - loss: 4.8347e-05 - acc: 1.0000 - val_loss: 3.2645e-04 - val_acc: 1.0000\n",
            "Epoch 9/15\n",
            "20/20 [==============================] - 13s 663ms/step - loss: 2.0455e-05 - acc: 1.0000 - val_loss: 2.0955e-04 - val_acc: 1.0000\n",
            "Epoch 10/15\n",
            "20/20 [==============================] - 13s 639ms/step - loss: 6.7941e-06 - acc: 1.0000 - val_loss: 2.7963e-04 - val_acc: 1.0000\n",
            "Epoch 11/15\n",
            "20/20 [==============================] - 13s 627ms/step - loss: 2.8907e-06 - acc: 1.0000 - val_loss: 1.3188e-04 - val_acc: 1.0000\n",
            "Epoch 12/15\n",
            "20/20 [==============================] - 13s 633ms/step - loss: 9.4644e-07 - acc: 1.0000 - val_loss: 9.3899e-05 - val_acc: 1.0000\n",
            "Epoch 13/15\n",
            "20/20 [==============================] - 12s 622ms/step - loss: 4.5959e-07 - acc: 1.0000 - val_loss: 9.8509e-05 - val_acc: 1.0000\n",
            "Epoch 14/15\n",
            "20/20 [==============================] - 13s 632ms/step - loss: 2.3365e-07 - acc: 1.0000 - val_loss: 6.5249e-05 - val_acc: 1.0000\n",
            "Epoch 15/15\n",
            "20/20 [==============================] - 12s 619ms/step - loss: 1.5204e-07 - acc: 1.0000 - val_loss: 5.6120e-05 - val_acc: 1.0000\n"
          ],
          "name": "stdout"
        }
      ]
    },
    {
      "cell_type": "code",
      "metadata": {
        "id": "3QpJTQU5RSdY",
        "colab_type": "code",
        "colab": {}
      },
      "source": [
        "model.save('C:\\\\Users\\\\NGC\\\\Datasets\\\\prepared.h5')"
      ],
      "execution_count": null,
      "outputs": []
    },
    {
      "cell_type": "markdown",
      "metadata": {
        "id": "S--DifQjTHjd",
        "colab_type": "text"
      },
      "source": [
        "#Graph"
      ]
    },
    {
      "cell_type": "code",
      "metadata": {
        "id": "l8kYrYuKRSdc",
        "colab_type": "code",
        "colab": {},
        "outputId": "22b491a6-bb00-4d80-c253-4866d14d273a"
      },
      "source": [
        "import matplotlib.pyplot as plt\n",
        "\n",
        "acc=history.history['acc']\n",
        "val_acc=history.history['val_acc']\n",
        "loss=history.history[\"loss\"]\n",
        "val_loss=history.history['val_loss']\n",
        "\n",
        "epochs=range(len(acc))\n",
        "\n",
        "plt.plot(epochs,acc,'bo',label='Training acc')\n",
        "plt.plot(epochs,val_acc,label='Validation acc')\n",
        "plt.title('Training and validation accuracy')\n",
        "plt.legend         \n",
        "plt.figure()\n",
        "\n",
        "\n",
        "\n",
        "plt.plot(epochs,loss,'bo',label='Training loss')\n",
        "plt.plot(epochs,val_loss,label='Validation loss')\n",
        "plt.title('Training and validation loss')\n",
        "plt.legend         \n",
        "plt.figure()\n",
        "\n",
        "plt.show()\n",
        "\n",
        "\n"
      ],
      "execution_count": null,
      "outputs": [
        {
          "output_type": "display_data",
          "data": {
            "image/png": "[encoded data removed]",
            "text/plain": [
              "<Figure size 432x288 with 1 Axes>"
            ]
          },
          "metadata": {
            "tags": [],
            "needs_background": "light"
          }
        },
        {
          "output_type": "display_data",
          "data": {
            "image/png": "[encoded data removed]",
            "text/plain": [
              "<Figure size 432x288 with 1 Axes>"
            ]
          },
          "metadata": {
            "tags": [],
            "needs_background": "light"
          }
        },
        {
          "output_type": "display_data",
          "data": {
            "text/plain": [
              "<Figure size 432x288 with 0 Axes>"
            ]
          },
          "metadata": {
            "tags": []
          }
        }
      ]
    },
    {
      "cell_type": "code",
      "metadata": {
        "id": "ZnjkmxoRRSdf",
        "colab_type": "code",
        "colab": {}
      },
      "source": [
        ""
      ],
      "execution_count": null,
      "outputs": []
    }
  ]
}