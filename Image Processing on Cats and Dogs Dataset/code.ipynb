{
  "nbformat": 4,
  "nbformat_minor": 0,
  "metadata": {
    "kernelspec": {
      "display_name": "Python 3",
      "language": "python",
      "name": "python3"
    },
    "language_info": {
      "codemirror_mode": {
        "name": "ipython",
        "version": 3
      },
      "file_extension": ".py",
      "mimetype": "text/x-python",
      "name": "python",
      "nbconvert_exporter": "python",
      "pygments_lexer": "ipython3",
      "version": "3.7.4"
    },
    "colab": {
      "name": "code.ipynb",
      "provenance": [],
      "collapsed_sections": []
    }
  },
  "cells": [
    {
      "cell_type": "code",
      "metadata": {
        "id": "BmZ0rqDFUmlr",
        "colab_type": "code",
        "colab": {},
        "outputId": "cddffabc-c89c-4b1d-e746-7ec605e8b9e2"
      },
      "source": [
        "import keras"
      ],
      "execution_count": null,
      "outputs": [
        {
          "output_type": "stream",
          "text": [
            "Using TensorFlow backend.\n"
          ],
          "name": "stderr"
        }
      ]
    },
    {
      "cell_type": "code",
      "metadata": {
        "id": "R6LWteDxUmlz",
        "colab_type": "code",
        "colab": {}
      },
      "source": [
        ""
      ],
      "execution_count": null,
      "outputs": []
    },
    {
      "cell_type": "markdown",
      "metadata": {
        "id": "_TsggISyUml4",
        "colab_type": "text"
      },
      "source": [
        "## Downloading the data\n",
        "\n",
        "The cats vs. dogs dataset that we will use isn't packaged with Keras. It was made available by Kaggle.com as part of a computer vision \n",
        "competition in late 2013, back when convnets weren't quite mainstream. You can download the original dataset at: \n",
        "`https://www.kaggle.com/c/dogs-vs-cats/data` (you will need to create a Kaggle account if you don't already have one -- don't worry, the \n",
        "process is painless).\n",
        "\n",
        "The pictures are medium-resolution color JPEGs. They look like this:\n",
        "\n",
        "![cats_vs_dogs_samples](https://s3.amazonaws.com/book.keras.io/img/ch5/cats_vs_dogs_samples.jpg)"
      ]
    },
    {
      "cell_type": "code",
      "metadata": {
        "id": "-Jc3jqShUml5",
        "colab_type": "code",
        "colab": {},
        "outputId": "61df7354-196c-47db-92e3-4117405fc6ef"
      },
      "source": [
        "import os\n",
        "\n",
        "print(os.getcwd())\n",
        "\n",
        "#print(os.listdir())\n",
        "\n",
        "path = '../Datasets/dogs-cats/train'\n",
        "\n",
        "#print(os.listdir(path))"
      ],
      "execution_count": null,
      "outputs": [
        {
          "output_type": "stream",
          "text": [
            "F:\\wd\n"
          ],
          "name": "stdout"
        }
      ]
    },
    {
      "cell_type": "code",
      "metadata": {
        "id": "ha9FFUhkUml9",
        "colab_type": "code",
        "colab": {},
        "outputId": "e100f0b6-4902-4b5f-f9dc-9980375ef2f4"
      },
      "source": [
        "import os, shutil\n",
        "\n",
        "original_dataset_dir = '../Datasets/dogs-cats/train'\n",
        "\n",
        "base_dir = '../Datasets/dogs-cats/prepared'\n",
        "\n",
        "if (not(os.path.exists(base_dir))):\n",
        "    os.mkdir(base_dir)\n",
        "\n",
        "train_dir = os.path.join(base_dir, 'train')\n",
        "os.mkdir(train_dir)\n",
        "validation_dir = os.path.join(base_dir, 'validation')\n",
        "os.mkdir(validation_dir)\n",
        "test_dir = os.path.join(base_dir, 'test')\n",
        "os.mkdir(test_dir)\n",
        "\n",
        "# Directory with our training cat pictures\n",
        "train_cats_dir = os.path.join(train_dir, 'cats')\n",
        "os.mkdir(train_cats_dir)\n",
        "\n",
        "# Directory with our training dog pictures\n",
        "train_dogs_dir = os.path.join(train_dir, 'dogs')\n",
        "os.mkdir(train_dogs_dir)\n",
        "\n",
        "# Directory with our validation cat pictures\n",
        "validation_cats_dir = os.path.join(validation_dir, 'cats')\n",
        "os.mkdir(validation_cats_dir)\n",
        "\n",
        "# Directory with our validation dog pictures\n",
        "validation_dogs_dir = os.path.join(validation_dir, 'dogs')\n",
        "os.mkdir(validation_dogs_dir)\n",
        "\n",
        "# Directory with our validation cat pictures\n",
        "test_cats_dir = os.path.join(test_dir, 'cats')\n",
        "os.mkdir(test_cats_dir)\n",
        "\n",
        "# Directory with our validation dog pictures\n",
        "test_dogs_dir = os.path.join(test_dir, 'dogs')\n",
        "os.mkdir(test_dogs_dir)"
      ],
      "execution_count": null,
      "outputs": [
        {
          "output_type": "error",
          "ename": "FileNotFoundError",
          "evalue": "[WinError 3] The system cannot find the path specified: '../Datasets/dogs-cats/prepared'",
          "traceback": [
            "\u001b[1;31m---------------------------------------------------------------------------\u001b[0m",
            "\u001b[1;31mFileNotFoundError\u001b[0m                         Traceback (most recent call last)",
            "\u001b[1;32m<ipython-input-3-ee8bb3f708ff>\u001b[0m in \u001b[0;36m<module>\u001b[1;34m\u001b[0m\n\u001b[0;32m      6\u001b[0m \u001b[1;33m\u001b[0m\u001b[0m\n\u001b[0;32m      7\u001b[0m \u001b[1;32mif\u001b[0m \u001b[1;33m(\u001b[0m\u001b[1;32mnot\u001b[0m\u001b[1;33m(\u001b[0m\u001b[0mos\u001b[0m\u001b[1;33m.\u001b[0m\u001b[0mpath\u001b[0m\u001b[1;33m.\u001b[0m\u001b[0mexists\u001b[0m\u001b[1;33m(\u001b[0m\u001b[0mbase_dir\u001b[0m\u001b[1;33m)\u001b[0m\u001b[1;33m)\u001b[0m\u001b[1;33m)\u001b[0m\u001b[1;33m:\u001b[0m\u001b[1;33m\u001b[0m\u001b[1;33m\u001b[0m\u001b[0m\n\u001b[1;32m----> 8\u001b[1;33m     \u001b[0mos\u001b[0m\u001b[1;33m.\u001b[0m\u001b[0mmkdir\u001b[0m\u001b[1;33m(\u001b[0m\u001b[0mbase_dir\u001b[0m\u001b[1;33m)\u001b[0m\u001b[1;33m\u001b[0m\u001b[1;33m\u001b[0m\u001b[0m\n\u001b[0m\u001b[0;32m      9\u001b[0m \u001b[1;33m\u001b[0m\u001b[0m\n\u001b[0;32m     10\u001b[0m \u001b[0mtrain_dir\u001b[0m \u001b[1;33m=\u001b[0m \u001b[0mos\u001b[0m\u001b[1;33m.\u001b[0m\u001b[0mpath\u001b[0m\u001b[1;33m.\u001b[0m\u001b[0mjoin\u001b[0m\u001b[1;33m(\u001b[0m\u001b[0mbase_dir\u001b[0m\u001b[1;33m,\u001b[0m \u001b[1;34m'train'\u001b[0m\u001b[1;33m)\u001b[0m\u001b[1;33m\u001b[0m\u001b[1;33m\u001b[0m\u001b[0m\n",
            "\u001b[1;31mFileNotFoundError\u001b[0m: [WinError 3] The system cannot find the path specified: '../Datasets/dogs-cats/prepared'"
          ]
        }
      ]
    },
    {
      "cell_type": "code",
      "metadata": {
        "id": "TkvUFDS3UmmC",
        "colab_type": "code",
        "colab": {},
        "outputId": "708167ae-105a-4673-c281-e3c97e8c527f"
      },
      "source": [
        "fnames = ['cat.{}.jpg'.format(i) for i in range(1000)]\n",
        "train_cats_dir"
      ],
      "execution_count": null,
      "outputs": [
        {
          "output_type": "execute_result",
          "data": {
            "text/plain": [
              "'../Datasets/dogs-cats/prepared\\\\train\\\\cats'"
            ]
          },
          "metadata": {
            "tags": []
          },
          "execution_count": 13
        }
      ]
    },
    {
      "cell_type": "code",
      "metadata": {
        "id": "5fNYUOFlUmmG",
        "colab_type": "code",
        "colab": {},
        "outputId": "2a61aad5-9f6c-4690-c049-8d4697b71a21"
      },
      "source": [
        "# Copy first 1000 cat images to train_cats_dir\n",
        "fnames = ['cat.{}.jpg'.format(i) for i in range(1000)]\n",
        "for fname in fnames:\n",
        "    src = os.path.join(original_dataset_dir, fname)\n",
        "    dst = os.path.join(train_cats_dir, fname)\n",
        "    shutil.copyfile(src, dst)\n",
        "\n",
        "# Copy next 500 cat images to validation_cats_dir\n",
        "fnames = ['cat.{}.jpg'.format(i) for i in range(1000, 1500)]\n",
        "for fname in fnames:\n",
        "    src = os.path.join(original_dataset_dir, fname)\n",
        "    dst = os.path.join(validation_cats_dir, fname)\n",
        "    shutil.copyfile(src, dst)\n",
        "    \n",
        "# Copy next 500 cat images to test_cats_dir\n",
        "fnames = ['cat.{}.jpg'.format(i) for i in range(1500, 2000)]\n",
        "for fname in fnames:\n",
        "    src = os.path.join(original_dataset_dir, fname)\n",
        "    dst = os.path.join(test_cats_dir, fname)\n",
        "    shutil.copyfile(src, dst)\n",
        "\n",
        "print(\"Cat (Train/Test) Completed.\")\n",
        "\n",
        "# Copy first 1000 dog images to train_dogs_dir\n",
        "fnames = ['dog.{}.jpg'.format(i) for i in range(1000)]\n",
        "for fname in fnames:\n",
        "    src = os.path.join(original_dataset_dir, fname)\n",
        "    dst = os.path.join(train_dogs_dir, fname)\n",
        "    shutil.copyfile(src, dst)\n",
        "    \n",
        "# Copy next 500 dog images to validation_dogs_dir\n",
        "fnames = ['dog.{}.jpg'.format(i) for i in range(1000, 1500)]\n",
        "for fname in fnames:\n",
        "    src = os.path.join(original_dataset_dir, fname)\n",
        "    dst = os.path.join(validation_dogs_dir, fname)\n",
        "    shutil.copyfile(src, dst)\n",
        "    \n",
        "# Copy next 500 dog images to test_dogs_dir\n",
        "fnames = ['dog.{}.jpg'.format(i) for i in range(1500, 2000)]\n",
        "for fname in fnames:\n",
        "    src = os.path.join(original_dataset_dir, fname)\n",
        "    dst = os.path.join(test_dogs_dir, fname)\n",
        "    shutil.copyfile(src, dst)\n",
        "    \n",
        "print(\"Dog (Train/Test) Completed.\")"
      ],
      "execution_count": null,
      "outputs": [
        {
          "output_type": "stream",
          "text": [
            "Cat (Train/Test) Completed.\n",
            "Dog (Train/Test) Completed.\n"
          ],
          "name": "stdout"
        }
      ]
    },
    {
      "cell_type": "markdown",
      "metadata": {
        "id": "2677O6zYUmmK",
        "colab_type": "text"
      },
      "source": [
        "As a sanity check, let's count how many pictures we have in each training split (train/validation/test):"
      ]
    },
    {
      "cell_type": "code",
      "metadata": {
        "id": "qjethTJjUmmL",
        "colab_type": "code",
        "colab": {},
        "outputId": "235e08a4-5b78-47d6-be49-189870d1aac7"
      },
      "source": [
        "print('total training cat images:', len(os.listdir(train_cats_dir)))"
      ],
      "execution_count": null,
      "outputs": [
        {
          "output_type": "stream",
          "text": [
            "total training cat images: 1000\n"
          ],
          "name": "stdout"
        }
      ]
    },
    {
      "cell_type": "code",
      "metadata": {
        "id": "jmTc6bhhUmmQ",
        "colab_type": "code",
        "colab": {},
        "outputId": "7a4b9c22-0156-489f-f089-12f53fbc58ed"
      },
      "source": [
        "print('total training dog images:', len(os.listdir(train_dogs_dir)))"
      ],
      "execution_count": null,
      "outputs": [
        {
          "output_type": "stream",
          "text": [
            "total training dog images: 1000\n"
          ],
          "name": "stdout"
        }
      ]
    },
    {
      "cell_type": "code",
      "metadata": {
        "id": "eQWMLCz9UmmX",
        "colab_type": "code",
        "colab": {},
        "outputId": "1e97070a-93c5-426e-ec6f-fdd35b973855"
      },
      "source": [
        "print('total validation cat images:', len(os.listdir(validation_cats_dir)))"
      ],
      "execution_count": null,
      "outputs": [
        {
          "output_type": "stream",
          "text": [
            "total validation cat images: 500\n"
          ],
          "name": "stdout"
        }
      ]
    },
    {
      "cell_type": "code",
      "metadata": {
        "id": "lrp5Z4nOUmmd",
        "colab_type": "code",
        "colab": {},
        "outputId": "33309a5f-7eeb-4db4-8727-7de39823af4a"
      },
      "source": [
        "print('total validation dog images:', len(os.listdir(validation_dogs_dir)))"
      ],
      "execution_count": null,
      "outputs": [
        {
          "output_type": "stream",
          "text": [
            "total validation dog images: 500\n"
          ],
          "name": "stdout"
        }
      ]
    },
    {
      "cell_type": "code",
      "metadata": {
        "id": "V7IES25MUmmh",
        "colab_type": "code",
        "colab": {},
        "outputId": "d1e1145f-cd91-4f85-d1c3-4d84b14046d9"
      },
      "source": [
        "print('total test cat images:', len(os.listdir(test_cats_dir)))"
      ],
      "execution_count": null,
      "outputs": [
        {
          "output_type": "stream",
          "text": [
            "total test cat images: 500\n"
          ],
          "name": "stdout"
        }
      ]
    },
    {
      "cell_type": "code",
      "metadata": {
        "id": "gRVAbd0dUmmm",
        "colab_type": "code",
        "colab": {},
        "outputId": "a7f17cf2-6662-4aff-ebd6-534acd73e535"
      },
      "source": [
        "print('total test dog images:', len(os.listdir(test_dogs_dir)))"
      ],
      "execution_count": null,
      "outputs": [
        {
          "output_type": "stream",
          "text": [
            "total test dog images: 500\n"
          ],
          "name": "stdout"
        }
      ]
    },
    {
      "cell_type": "markdown",
      "metadata": {
        "id": "I_08X5qBUmmq",
        "colab_type": "text"
      },
      "source": [
        "\n",
        "So we have indeed 2000 training images, and then 1000 validation images and 1000 test images. In each split, there is the same number of \n",
        "samples from each class: this is a balanced binary classification problem, which means that classification accuracy will be an appropriate \n",
        "measure of success."
      ]
    },
    {
      "cell_type": "markdown",
      "metadata": {
        "id": "Zggxp8keUmmq",
        "colab_type": "text"
      },
      "source": [
        "## Building our network\n",
        "\n",
        "We've already built a small convnet for MNIST in the previous example, so you should be familiar with them. We will reuse the same \n",
        "general structure: our convnet will be a stack of alternated `Conv2D` (with `relu` activation) and `MaxPooling2D` layers.\n",
        "\n",
        "However, since we are dealing with bigger images and a more complex problem, we will make our network accordingly larger: it will have one \n",
        "more `Conv2D` + `MaxPooling2D` stage. This serves both to augment the capacity of the network, and to further reduce the size of the \n",
        "feature maps, so that they aren't overly large when we reach the `Flatten` layer. Here, since we start from inputs of size 150x150 (a \n",
        "somewhat arbitrary choice), we end up with feature maps of size 7x7 right before the `Flatten` layer.\n",
        "\n",
        "Note that the depth of the feature maps is progressively increasing in the network (from 32 to 128), while the size of the feature maps is \n",
        "decreasing (from 148x148 to 7x7). This is a pattern that you will see in almost all convnets.\n",
        "\n",
        "Since we are attacking a binary classification problem, we are ending the network with a single unit (a `Dense` layer of size 1) and a \n",
        "`sigmoid` activation. This unit will encode the probability that the network is looking at one class or the other."
      ]
    },
    {
      "cell_type": "code",
      "metadata": {
        "id": "YLI1_zM_Ummr",
        "colab_type": "code",
        "colab": {},
        "outputId": "dfebc48f-33c0-4d15-8308-b34b35d0f319"
      },
      "source": [
        "from keras import layers\n",
        "from keras import models\n",
        "\n",
        "model = models.Sequential()\n",
        "model.add(layers.Conv2D(32, (3, 3), activation='relu', input_shape=(150, 150, 3)))\n",
        "model.add(layers.MaxPooling2D((2, 2)))\n",
        "model.add(layers.Conv2D(64, (3, 3), activation='relu'))\n",
        "model.add(layers.MaxPooling2D((2, 2)))\n",
        "model.add(layers.Conv2D(128, (3, 3), activation='relu'))\n",
        "model.add(layers.MaxPooling2D((2, 2)))\n",
        "model.add(layers.Conv2D(128, (3, 3), activation='relu'))\n",
        "model.add(layers.MaxPooling2D((2, 2)))\n",
        "model.add(layers.Flatten())\n",
        "model.add(layers.Dense(512, activation='relu'))\n",
        "model.add(layers.Dense(1, activation='sigmoid'))"
      ],
      "execution_count": null,
      "outputs": [
        {
          "output_type": "stream",
          "text": [
            "WARNING:tensorflow:From C:\\ProgramData\\Anaconda3\\lib\\site-packages\\tensorflow\\python\\framework\\op_def_library.py:263: colocate_with (from tensorflow.python.framework.ops) is deprecated and will be removed in a future version.\n",
            "Instructions for updating:\n",
            "Colocations handled automatically by placer.\n"
          ],
          "name": "stdout"
        }
      ]
    },
    {
      "cell_type": "markdown",
      "metadata": {
        "id": "I5eB2BFtUmmw",
        "colab_type": "text"
      },
      "source": [
        "Let's take a look at how the dimensions of the feature maps change with every successive layer:"
      ]
    },
    {
      "cell_type": "code",
      "metadata": {
        "id": "q6ZVXFMuUmmx",
        "colab_type": "code",
        "colab": {},
        "outputId": "022194bb-4909-49ec-8c29-2785a37c8f85"
      },
      "source": [
        "model.summary()"
      ],
      "execution_count": null,
      "outputs": [
        {
          "output_type": "stream",
          "text": [
            "_________________________________________________________________\n",
            "Layer (type)                 Output Shape              Param #   \n",
            "=================================================================\n",
            "conv2d_1 (Conv2D)            (None, 148, 148, 32)      896       \n",
            "_________________________________________________________________\n",
            "max_pooling2d_1 (MaxPooling2 (None, 74, 74, 32)        0         \n",
            "_________________________________________________________________\n",
            "conv2d_2 (Conv2D)            (None, 72, 72, 64)        18496     \n",
            "_________________________________________________________________\n",
            "max_pooling2d_2 (MaxPooling2 (None, 36, 36, 64)        0         \n",
            "_________________________________________________________________\n",
            "conv2d_3 (Conv2D)            (None, 34, 34, 128)       73856     \n",
            "_________________________________________________________________\n",
            "max_pooling2d_3 (MaxPooling2 (None, 17, 17, 128)       0         \n",
            "_________________________________________________________________\n",
            "conv2d_4 (Conv2D)            (None, 15, 15, 128)       147584    \n",
            "_________________________________________________________________\n",
            "max_pooling2d_4 (MaxPooling2 (None, 7, 7, 128)         0         \n",
            "_________________________________________________________________\n",
            "flatten_1 (Flatten)          (None, 6272)              0         \n",
            "_________________________________________________________________\n",
            "dense_1 (Dense)              (None, 512)               3211776   \n",
            "_________________________________________________________________\n",
            "dense_2 (Dense)              (None, 1)                 513       \n",
            "=================================================================\n",
            "Total params: 3,453,121\n",
            "Trainable params: 3,453,121\n",
            "Non-trainable params: 0\n",
            "_________________________________________________________________\n"
          ],
          "name": "stdout"
        }
      ]
    },
    {
      "cell_type": "markdown",
      "metadata": {
        "id": "8IfjWEDDUmm0",
        "colab_type": "text"
      },
      "source": [
        "For our compilation step, we'll go with the `RMSprop` optimizer as usual. Since we ended our network with a single sigmoid unit, we will \n",
        "use binary crossentropy as our loss (as a reminder, check out the table in Chapter 4, section 5 for a cheatsheet on what loss function to \n",
        "use in various situations)."
      ]
    },
    {
      "cell_type": "code",
      "metadata": {
        "id": "-pqCQVkVUmm1",
        "colab_type": "code",
        "colab": {}
      },
      "source": [
        "from keras import optimizers\n",
        "\n",
        "model.compile(loss='binary_crossentropy',\n",
        "              optimizer=optimizers.RMSprop(lr=1e-4),\n",
        "              metrics=['acc'])"
      ],
      "execution_count": null,
      "outputs": []
    },
    {
      "cell_type": "markdown",
      "metadata": {
        "id": "ZqWn7WKmUmm5",
        "colab_type": "text"
      },
      "source": [
        "## Data preprocessing\n",
        "\n",
        "As you already know by now, data should be formatted into appropriately pre-processed floating point tensors before being fed into our \n",
        "network. Currently, our data sits on a drive as JPEG files, so the steps for getting it into our network are roughly:\n",
        "\n",
        "* Read the picture files.\n",
        "* Decode the JPEG content to RBG grids of pixels.\n",
        "* Convert these into floating point tensors.\n",
        "* Rescale the pixel values (between 0 and 255) to the [0, 1] interval (as you know, neural networks prefer to deal with small input values).\n",
        "\n",
        "It may seem a bit daunting, but thankfully Keras has utilities to take care of these steps automatically. Keras has a module with image \n",
        "processing helper tools, located at `keras.preprocessing.image`. In particular, it contains the class `ImageDataGenerator` which allows to \n",
        "quickly set up Python generators that can automatically turn image files on disk into batches of pre-processed tensors. This is what we \n",
        "will use here."
      ]
    },
    {
      "cell_type": "code",
      "metadata": {
        "id": "-uMSdB63Umm5",
        "colab_type": "code",
        "colab": {},
        "outputId": "79e9cce7-2a4f-4796-d60c-f2d6de875e83"
      },
      "source": [
        "from keras.preprocessing.image import ImageDataGenerator\n",
        "\n",
        "# All images will be rescaled by 1./255\n",
        "train_datagen = ImageDataGenerator(rescale=1./255)\n",
        "test_datagen = ImageDataGenerator(rescale=1./255)\n",
        "\n",
        "train_generator = train_datagen.flow_from_directory(\n",
        "        # This is the target directory\n",
        "        train_dir,\n",
        "        # All images will be resized to 150x150\n",
        "        target_size=(150, 150),\n",
        "        batch_size=20,\n",
        "        # Since we use binary_crossentropy loss, we need binary labels\n",
        "        class_mode='binary')\n",
        "\n",
        "validation_generator = test_datagen.flow_from_directory(\n",
        "        validation_dir,\n",
        "        target_size=(150, 150),\n",
        "        batch_size=20,\n",
        "        class_mode='binary')"
      ],
      "execution_count": null,
      "outputs": [
        {
          "output_type": "stream",
          "text": [
            "Found 2000 images belonging to 2 classes.\n",
            "Found 1000 images belonging to 2 classes.\n"
          ],
          "name": "stdout"
        }
      ]
    },
    {
      "cell_type": "code",
      "metadata": {
        "id": "BhgDbZOXUmm9",
        "colab_type": "code",
        "colab": {},
        "outputId": "7efbe6d5-9553-4d7b-8238-2a9cbecab998"
      },
      "source": [
        "history = model.fit_generator(\n",
        "      train_generator,\n",
        "      steps_per_epoch=100,\n",
        "      epochs=30,\n",
        "      validation_data=validation_generator,\n",
        "      validation_steps=50)"
      ],
      "execution_count": null,
      "outputs": [
        {
          "output_type": "stream",
          "text": [
            "WARNING:tensorflow:From C:\\ProgramData\\Anaconda3\\lib\\site-packages\\tensorflow\\python\\ops\\math_ops.py:3066: to_int32 (from tensorflow.python.ops.math_ops) is deprecated and will be removed in a future version.\n",
            "Instructions for updating:\n",
            "Use tf.cast instead.\n",
            "Epoch 1/30\n",
            "100/100 [==============================] - 52s 520ms/step - loss: 0.6920 - acc: 0.5290 - val_loss: 0.6834 - val_acc: 0.5670\n",
            "Epoch 2/30\n",
            "100/100 [==============================] - 48s 485ms/step - loss: 0.6675 - acc: 0.5935 - val_loss: 0.6579 - val_acc: 0.6010\n",
            "Epoch 3/30\n",
            "100/100 [==============================] - 49s 489ms/step - loss: 0.6228 - acc: 0.6585 - val_loss: 0.6146 - val_acc: 0.6640\n",
            "Epoch 4/30\n",
            "100/100 [==============================] - 50s 495ms/step - loss: 0.5716 - acc: 0.6975 - val_loss: 0.5993 - val_acc: 0.6720\n",
            "Epoch 5/30\n",
            "100/100 [==============================] - 49s 487ms/step - loss: 0.5400 - acc: 0.7310 - val_loss: 0.5776 - val_acc: 0.6890\n",
            "Epoch 6/30\n",
            "100/100 [==============================] - 49s 489ms/step - loss: 0.5117 - acc: 0.7415 - val_loss: 0.6022 - val_acc: 0.6790\n",
            "Epoch 7/30\n",
            "100/100 [==============================] - 49s 489ms/step - loss: 0.4851 - acc: 0.7735 - val_loss: 0.5795 - val_acc: 0.6910\n",
            "Epoch 8/30\n",
            "100/100 [==============================] - 49s 490ms/step - loss: 0.4692 - acc: 0.7780 - val_loss: 0.5723 - val_acc: 0.7040\n",
            "Epoch 9/30\n",
            "100/100 [==============================] - 49s 491ms/step - loss: 0.4371 - acc: 0.8085 - val_loss: 0.5565 - val_acc: 0.7140\n",
            "Epoch 10/30\n",
            "100/100 [==============================] - 49s 488ms/step - loss: 0.4111 - acc: 0.8170 - val_loss: 0.5952 - val_acc: 0.7040\n",
            "Epoch 11/30\n",
            "100/100 [==============================] - 49s 488ms/step - loss: 0.3910 - acc: 0.8245 - val_loss: 0.5590 - val_acc: 0.7260\n",
            "Epoch 12/30\n",
            "100/100 [==============================] - 56s 559ms/step - loss: 0.3713 - acc: 0.8395 - val_loss: 0.6133 - val_acc: 0.7040\n",
            "Epoch 13/30\n",
            "100/100 [==============================] - 53s 535ms/step - loss: 0.3482 - acc: 0.8530 - val_loss: 0.5730 - val_acc: 0.7230\n",
            "Epoch 14/30\n",
            "100/100 [==============================] - 50s 502ms/step - loss: 0.3207 - acc: 0.8620 - val_loss: 0.6385 - val_acc: 0.7150\n",
            "Epoch 15/30\n",
            "100/100 [==============================] - 49s 492ms/step - loss: 0.3053 - acc: 0.8710 - val_loss: 0.5477 - val_acc: 0.7430\n",
            "Epoch 16/30\n",
            "100/100 [==============================] - 51s 513ms/step - loss: 0.2780 - acc: 0.8890 - val_loss: 0.5864 - val_acc: 0.7290\n",
            "Epoch 17/30\n",
            "100/100 [==============================] - 51s 508ms/step - loss: 0.2613 - acc: 0.8980 - val_loss: 0.6195 - val_acc: 0.7190\n",
            "Epoch 18/30\n",
            "100/100 [==============================] - 52s 515ms/step - loss: 0.2434 - acc: 0.9010 - val_loss: 0.6906 - val_acc: 0.7070\n",
            "Epoch 19/30\n",
            "100/100 [==============================] - 49s 494ms/step - loss: 0.2151 - acc: 0.9135 - val_loss: 0.6255 - val_acc: 0.7320\n",
            "Epoch 20/30\n",
            "100/100 [==============================] - 49s 488ms/step - loss: 0.1958 - acc: 0.9275 - val_loss: 0.6334 - val_acc: 0.7400\n",
            "Epoch 21/30\n",
            "100/100 [==============================] - 49s 495ms/step - loss: 0.1712 - acc: 0.9430 - val_loss: 0.6989 - val_acc: 0.7220\n",
            "Epoch 22/30\n",
            "100/100 [==============================] - 48s 483ms/step - loss: 0.1607 - acc: 0.9380 - val_loss: 0.7203 - val_acc: 0.7270\n",
            "Epoch 23/30\n",
            "100/100 [==============================] - 48s 484ms/step - loss: 0.1424 - acc: 0.9465 - val_loss: 0.7299 - val_acc: 0.7280\n",
            "Epoch 24/30\n",
            "100/100 [==============================] - 48s 482ms/step - loss: 0.1244 - acc: 0.9585 - val_loss: 0.8662 - val_acc: 0.6990\n",
            "Epoch 25/30\n",
            "100/100 [==============================] - 48s 481ms/step - loss: 0.1047 - acc: 0.9665 - val_loss: 0.7636 - val_acc: 0.7300\n",
            "Epoch 26/30\n",
            "100/100 [==============================] - 48s 482ms/step - loss: 0.0928 - acc: 0.9745 - val_loss: 0.9273 - val_acc: 0.7100\n",
            "Epoch 27/30\n",
            "100/100 [==============================] - 48s 482ms/step - loss: 0.0789 - acc: 0.9805 - val_loss: 0.9464 - val_acc: 0.7220\n",
            "Epoch 28/30\n",
            "100/100 [==============================] - 48s 483ms/step - loss: 0.0690 - acc: 0.9785 - val_loss: 0.9404 - val_acc: 0.7300\n",
            "Epoch 29/30\n",
            "100/100 [==============================] - 48s 483ms/step - loss: 0.0586 - acc: 0.9840 - val_loss: 1.0294 - val_acc: 0.7090\n",
            "Epoch 30/30\n",
            "100/100 [==============================] - 48s 482ms/step - loss: 0.0569 - acc: 0.9835 - val_loss: 0.9661 - val_acc: 0.7270\n"
          ],
          "name": "stdout"
        }
      ]
    },
    {
      "cell_type": "markdown",
      "metadata": {
        "collapsed": true,
        "id": "wwJ9QZKhUmnB",
        "colab_type": "text"
      },
      "source": [
        "It is good practice to always save your models after training:"
      ]
    },
    {
      "cell_type": "code",
      "metadata": {
        "id": "4IeAQMLvUmnC",
        "colab_type": "code",
        "colab": {}
      },
      "source": [
        "model.save('../Weights/cats_and_dogs_small.h5')"
      ],
      "execution_count": null,
      "outputs": []
    },
    {
      "cell_type": "markdown",
      "metadata": {
        "id": "SQtXLx6nUmnH",
        "colab_type": "text"
      },
      "source": [
        "Let's plot the loss and accuracy of the model over the training and validation data during training:"
      ]
    },
    {
      "cell_type": "code",
      "metadata": {
        "id": "JlhdON-5UmnH",
        "colab_type": "code",
        "colab": {},
        "outputId": "b924c501-c485-45cb-bccf-18e05e96519b"
      },
      "source": [
        "import matplotlib.pyplot as plt\n",
        "\n",
        "acc = history.history['acc']\n",
        "val_acc = history.history['val_acc']\n",
        "loss = history.history['loss']\n",
        "val_loss = history.history['val_loss']\n",
        "\n",
        "epochs = range(len(acc))\n",
        "\n",
        "plt.plot(epochs, acc, 'bo', label='Training acc')\n",
        "plt.plot(epochs, val_acc, 'b', label='Validation acc')\n",
        "plt.title('Training and validation accuracy')\n",
        "plt.legend()\n",
        "\n",
        "plt.figure()\n",
        "\n",
        "plt.plot(epochs, loss, 'bo', label='Training loss')\n",
        "plt.plot(epochs, val_loss, 'b', label='Validation loss')\n",
        "plt.title('Training and validation loss')\n",
        "plt.legend()\n",
        "\n",
        "plt.show()"
      ],
      "execution_count": null,
      "outputs": [
        {
          "output_type": "display_data",
          "data": {
            "image/png": "[encoded data removed]",
            "text/plain": [
              "<Figure size 432x288 with 1 Axes>"
            ]
          },
          "metadata": {
            "tags": [],
            "needs_background": "light"
          }
        },
        {
          "output_type": "display_data",
          "data": {
            "image/png": "[encoded data removed]",
            "text/plain": [
              "<Figure size 432x288 with 1 Axes>"
            ]
          },
          "metadata": {
            "tags": [],
            "needs_background": "light"
          }
        }
      ]
    }
  ]
}